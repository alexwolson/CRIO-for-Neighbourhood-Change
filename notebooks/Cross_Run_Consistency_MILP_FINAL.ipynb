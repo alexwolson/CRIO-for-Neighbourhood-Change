{
 "cells": [
  {
   "cell_type": "code",
   "execution_count": 5,
   "metadata": {},
   "outputs": [],
   "source": [
    "import pickle\n",
    "import sys\n",
    "sys.path.insert(0,'../code/')\n",
    "from shared import *\n",
    "import pandas as pd"
   ]
  },
  {
   "cell_type": "code",
   "execution_count": 7,
   "metadata": {},
   "outputs": [],
   "source": [
    "K = 5\n",
    "F = 5\n",
    "results = defaultdict(dict)\n",
    "features = defaultdict(dict)\n",
    "for k in range(2, K+1):\n",
    "    with open(f'../results/milp/rawresults/result_{k}{F}.pickle','rb') as p:\n",
    "        ti,(tc,tb) = pickle.load(p)\n",
    "    for f in range(2, F+1):\n",
    "            results[k][f] = (tc[f-2],tb[f-2])\n",
    "    for f in range(2,F+1):\n",
    "             features[k][f] = ti[f-2]\n",
    "\n",
    "tracts = features[2][2].index.values.tolist()"
   ]
  },
  {
   "cell_type": "code",
   "execution_count": 13,
   "metadata": {
    "scrolled": true
   },
   "outputs": [],
   "source": [
    "average_values = {}\n",
    "piecewise_data = pd.read_csv(filepath+\"NY_2000_NEW.csv\")\n",
    "# calculate MI with respect ot the label and rank them\n",
    "output = piecewise_data.set_index('trtid')\n",
    "miScoredf = getMI(output, 'incpc')\n",
    "miScoredf = miScoredf.sort_values(by=['MI'], ascending=False)\n",
    "# number of features to keep (by highest MI)\n",
    "keep_feature = miScoredf[:5].feature.values\n",
    "for k,fs in results.items():\n",
    "    average_values[k] = {}\n",
    "    for f, (rs,_) in fs.items():\n",
    "        average_values[k][f] = {}\n",
    "        for m in range(1,k+1):\n",
    "            model = rs['Cluster' + str(m)].values\n",
    "            average_values[k][f][m] = dict(zip(keep_feature,model))\n"
   ]
  },
  {
   "cell_type": "code",
   "execution_count": 14,
   "metadata": {},
   "outputs": [
    {
     "name": "stdout",
     "output_type": "stream",
     "text": [
      "Index(['assignments', 'col', 'f', 'flabf', 'k', 'model', 'multi', 'own',\n",
      "       'prof'],\n",
      "      dtype='object')\n"
     ]
    }
   ],
   "source": [
    "av = pd.DataFrame()\n",
    "av['k'] = 0\n",
    "av['f'] = 0\n",
    "for k in average_values[5][5][1].keys():\n",
    "    av[k] = ''\n",
    "n = []\n",
    "for k, fs in average_values.items():\n",
    "    for f, ms in fs.items():\n",
    "        assignments = defaultdict(list)\n",
    "        for v,tk in (zip(\n",
    "            features[\n",
    "                k][\n",
    "                f].index.values.tolist(),\n",
    "            features[k\n",
    "                   ][\n",
    "                f]['model'].values.tolist())):\n",
    "            assignments[tk].append(v)\n",
    "        for m, cs in ms.items():\n",
    "            t = {\n",
    "                'k':k,\n",
    "                'f':f,\n",
    "            }\n",
    "            for c, v in cs.items():\n",
    "                t[c] = v\n",
    "            for col in av.columns:\n",
    "                if col not in t.keys():\n",
    "                    t[col] = 'N/A'\n",
    "            t['assignments'] = assignments[m]\n",
    "            t['model'] = m\n",
    "            n.append(t)\n",
    "av = pd.DataFrame(n)\n",
    "print(av.columns)\n",
    "av = av[['k','f','model','prof', 'col', 'flabf', 'multi', 'own','assignments']]\n",
    "av.to_csv('/home/alex/Desktop/milp_weight_averages.csv')"
   ]
  },
  {
   "cell_type": "code",
   "execution_count": 15,
   "metadata": {},
   "outputs": [
    {
     "name": "stderr",
     "output_type": "stream",
     "text": [
      "/home/alex/anaconda3/envs/isabelle/lib/python3.6/site-packages/ipykernel_launcher.py:3: UserWarning: Boolean Series key will be reindexed to match DataFrame index.\n",
      "  This is separate from the ipykernel package so we can avoid doing imports until\n"
     ]
    },
    {
     "data": {
      "text/html": [
       "<div>\n",
       "<style scoped>\n",
       "    .dataframe tbody tr th:only-of-type {\n",
       "        vertical-align: middle;\n",
       "    }\n",
       "\n",
       "    .dataframe tbody tr th {\n",
       "        vertical-align: top;\n",
       "    }\n",
       "\n",
       "    .dataframe thead th {\n",
       "        text-align: right;\n",
       "    }\n",
       "</style>\n",
       "<table border=\"1\" class=\"dataframe\">\n",
       "  <thead>\n",
       "    <tr style=\"text-align: right;\">\n",
       "      <th></th>\n",
       "      <th>k</th>\n",
       "      <th>f</th>\n",
       "      <th>model</th>\n",
       "      <th>prof</th>\n",
       "      <th>col</th>\n",
       "      <th>flabf</th>\n",
       "      <th>multi</th>\n",
       "      <th>own</th>\n",
       "      <th>assignments</th>\n",
       "    </tr>\n",
       "  </thead>\n",
       "  <tbody>\n",
       "    <tr>\n",
       "      <th>51</th>\n",
       "      <td>5</td>\n",
       "      <td>5</td>\n",
       "      <td>1</td>\n",
       "      <td>0.519719</td>\n",
       "      <td>0.190684</td>\n",
       "      <td>0</td>\n",
       "      <td>0</td>\n",
       "      <td>0</td>\n",
       "      <td>[36061000201, 36061000800, 36061001402, 360610...</td>\n",
       "    </tr>\n",
       "    <tr>\n",
       "      <th>52</th>\n",
       "      <td>5</td>\n",
       "      <td>5</td>\n",
       "      <td>2</td>\n",
       "      <td>0.110296</td>\n",
       "      <td>0.000000</td>\n",
       "      <td>0</td>\n",
       "      <td>0.778089</td>\n",
       "      <td>2.03945</td>\n",
       "      <td>[36061000202, 36061001200, 36061001501, 360610...</td>\n",
       "    </tr>\n",
       "    <tr>\n",
       "      <th>53</th>\n",
       "      <td>5</td>\n",
       "      <td>5</td>\n",
       "      <td>3</td>\n",
       "      <td>0.734264</td>\n",
       "      <td>1.472848</td>\n",
       "      <td>0</td>\n",
       "      <td>0.301736</td>\n",
       "      <td>0.985028</td>\n",
       "      <td>[36061001002, 36061001600, 36061002500, 360610...</td>\n",
       "    </tr>\n",
       "    <tr>\n",
       "      <th>54</th>\n",
       "      <td>5</td>\n",
       "      <td>5</td>\n",
       "      <td>4</td>\n",
       "      <td>0.298900</td>\n",
       "      <td>0.000000</td>\n",
       "      <td>0.271225</td>\n",
       "      <td>0.317434</td>\n",
       "      <td>0.313829</td>\n",
       "      <td>[36061002201, 36061002202, 36061002800, 360610...</td>\n",
       "    </tr>\n",
       "    <tr>\n",
       "      <th>55</th>\n",
       "      <td>5</td>\n",
       "      <td>5</td>\n",
       "      <td>5</td>\n",
       "      <td>0.000000</td>\n",
       "      <td>0.000000</td>\n",
       "      <td>0</td>\n",
       "      <td>0</td>\n",
       "      <td>0</td>\n",
       "      <td>[36061000600, 36061002000, 36061003200, 360610...</td>\n",
       "    </tr>\n",
       "  </tbody>\n",
       "</table>\n",
       "</div>"
      ],
      "text/plain": [
       "    k  f  model      prof       col     flabf     multi       own  \\\n",
       "51  5  5      1  0.519719  0.190684         0         0         0   \n",
       "52  5  5      2  0.110296  0.000000         0  0.778089   2.03945   \n",
       "53  5  5      3  0.734264  1.472848         0  0.301736  0.985028   \n",
       "54  5  5      4  0.298900  0.000000  0.271225  0.317434  0.313829   \n",
       "55  5  5      5  0.000000  0.000000         0         0         0   \n",
       "\n",
       "                                          assignments  \n",
       "51  [36061000201, 36061000800, 36061001402, 360610...  \n",
       "52  [36061000202, 36061001200, 36061001501, 360610...  \n",
       "53  [36061001002, 36061001600, 36061002500, 360610...  \n",
       "54  [36061002201, 36061002202, 36061002800, 360610...  \n",
       "55  [36061000600, 36061002000, 36061003200, 360610...  "
      ]
     },
     "execution_count": 15,
     "metadata": {},
     "output_type": "execute_result"
    }
   ],
   "source": [
    "av = av[['k','f','model','prof', 'col', 'flabf', 'multi', 'own','assignments']]\n",
    "av.to_csv('/home/alex/Desktop/milp_weight_averages.csv')\n",
    "av[av.k == 5][av.f == 5]"
   ]
  },
  {
   "cell_type": "code",
   "execution_count": 20,
   "metadata": {},
   "outputs": [],
   "source": [
    "bv = []\n",
    "features = ['prof', 'col', 'flabf', 'multi', 'own','incpc']\n",
    "for i in range(len(av)):\n",
    "    t = {}\n",
    "    k = av.iat[i,0]\n",
    "    f = int(av.iat[i,1])\n",
    "    d = readindata_std('incpc',f)\n",
    "    model = av.iat[i,2]\n",
    "    assignments = av.iat[i,8]\n",
    "    fdict = defaultdict(list)\n",
    "    for asmt in assignments:\n",
    "        for feat in features[0:f]:\n",
    "            fdict[feat].append(\n",
    "                d[d.trtid == asmt][feat].values[0]\n",
    "            )\n",
    "        fdict['incpc'].append(\n",
    "            d[d.trtid == asmt]['incpc'].values[0]\n",
    "        )\n",
    "    for feat in features:\n",
    "        t[feat] = np.mean(fdict[feat])\n",
    "    t['k'] = k\n",
    "    t['f'] = f\n",
    "    t['model'] = av.iat[i,2]\n",
    "    bv.append(t)\n",
    "bv = pd.DataFrame(bv)"
   ]
  },
  {
   "cell_type": "code",
   "execution_count": 21,
   "metadata": {},
   "outputs": [],
   "source": [
    "bv = bv[['k','f','model','prof', 'col', 'flabf', 'multi', 'own','incpc']]\n",
    "bv.to_csv('/home/alex/Desktop/milp_feature_averages.csv')"
   ]
  },
  {
   "cell_type": "code",
   "execution_count": 22,
   "metadata": {},
   "outputs": [
    {
     "name": "stderr",
     "output_type": "stream",
     "text": [
      "/home/alex/anaconda3/envs/isabelle/lib/python3.6/site-packages/ipykernel_launcher.py:1: UserWarning: Boolean Series key will be reindexed to match DataFrame index.\n",
      "  \"\"\"Entry point for launching an IPython kernel.\n"
     ]
    },
    {
     "data": {
      "text/html": [
       "<div>\n",
       "<style scoped>\n",
       "    .dataframe tbody tr th:only-of-type {\n",
       "        vertical-align: middle;\n",
       "    }\n",
       "\n",
       "    .dataframe tbody tr th {\n",
       "        vertical-align: top;\n",
       "    }\n",
       "\n",
       "    .dataframe thead th {\n",
       "        text-align: right;\n",
       "    }\n",
       "</style>\n",
       "<table border=\"1\" class=\"dataframe\">\n",
       "  <thead>\n",
       "    <tr style=\"text-align: right;\">\n",
       "      <th></th>\n",
       "      <th>k</th>\n",
       "      <th>f</th>\n",
       "      <th>model</th>\n",
       "      <th>prof</th>\n",
       "      <th>col</th>\n",
       "      <th>flabf</th>\n",
       "      <th>multi</th>\n",
       "      <th>own</th>\n",
       "      <th>incpc</th>\n",
       "    </tr>\n",
       "  </thead>\n",
       "  <tbody>\n",
       "    <tr>\n",
       "      <th>6</th>\n",
       "      <td>2</td>\n",
       "      <td>5</td>\n",
       "      <td>1</td>\n",
       "      <td>-0.024022</td>\n",
       "      <td>-0.006771</td>\n",
       "      <td>0.063478</td>\n",
       "      <td>0.014142</td>\n",
       "      <td>0.008735</td>\n",
       "      <td>0.039378</td>\n",
       "    </tr>\n",
       "    <tr>\n",
       "      <th>7</th>\n",
       "      <td>2</td>\n",
       "      <td>5</td>\n",
       "      <td>2</td>\n",
       "      <td>0.017663</td>\n",
       "      <td>0.004979</td>\n",
       "      <td>-0.046675</td>\n",
       "      <td>-0.010398</td>\n",
       "      <td>-0.006423</td>\n",
       "      <td>-0.028955</td>\n",
       "    </tr>\n",
       "  </tbody>\n",
       "</table>\n",
       "</div>"
      ],
      "text/plain": [
       "   k  f  model      prof       col     flabf     multi       own     incpc\n",
       "6  2  5      1 -0.024022 -0.006771  0.063478  0.014142  0.008735  0.039378\n",
       "7  2  5      2  0.017663  0.004979 -0.046675 -0.010398 -0.006423 -0.028955"
      ]
     },
     "execution_count": 22,
     "metadata": {},
     "output_type": "execute_result"
    }
   ],
   "source": [
    "bv[bv.k == 2][bv.f == 5]"
   ]
  },
  {
   "cell_type": "code",
   "execution_count": null,
   "metadata": {},
   "outputs": [],
   "source": []
  }
 ],
 "metadata": {
  "kernelspec": {
   "display_name": "Python 3",
   "language": "python",
   "name": "python3"
  },
  "language_info": {
   "codemirror_mode": {
    "name": "ipython",
    "version": 3
   },
   "file_extension": ".py",
   "mimetype": "text/x-python",
   "name": "python",
   "nbconvert_exporter": "python",
   "pygments_lexer": "ipython3",
   "version": "3.6.8"
  }
 },
 "nbformat": 4,
 "nbformat_minor": 2
}
