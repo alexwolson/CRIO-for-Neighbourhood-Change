{
 "cells": [
  {
   "cell_type": "code",
   "execution_count": 1,
   "metadata": {},
   "outputs": [],
   "source": [
    "import pandas as pd\n",
    "from pathlib import Path\n",
    "import numpy as np\n",
    "pd.set_option('display.max_columns',None)\n",
    "DATA_DIR = Path('../data')\n",
    "NYC_COUNTIES = ['New York County']\n",
    "pandaload = lambda x: pd.read_csv(Path.joinpath(DATA_DIR,x),index_col=0)\n",
    "keep = [\n",
    "    'trtid',\n",
    "    'pop',\n",
    "    'nhwht',\n",
    "    'nhblk',\n",
    "    'hisp',\n",
    "    'asian',\n",
    "    'fb',\n",
    "    'nimm',\n",
    "    'nat',\n",
    "    'olang',\n",
    "    'lep',\n",
    "    'hs',\n",
    "    'col',\n",
    "    'unemp',\n",
    "    'flabf',\n",
    "    'prof',\n",
    "    'manuf',\n",
    "    'semp',\n",
    "    'vet',\n",
    "    'npov',\n",
    "    'n65pov',\n",
    "    'nfmpov',\n",
    "    'vac',\n",
    "    'own',\n",
    "    'multi',\n",
    "    'h30old',\n",
    "    'a18und',\n",
    "    'a60up',\n",
    "    'a75up',\n",
    "    'wds',\n",
    "    'fhh',\n",
    "    'incpc'\n",
    "]"
   ]
  },
  {
   "cell_type": "code",
   "execution_count": 2,
   "metadata": {},
   "outputs": [
    {
     "name": "stdout",
     "output_type": "stream",
     "text": [
      "Dropping ageblk12\n",
      "Dropping agentv12\n",
      "Dropping agewht12\n",
      "Dropping agehsp12\n",
      "Dropping india12\n",
      "Dropping filip12\n",
      "Dropping japan12\n",
      "Dropping korea12\n",
      "Dropping viet12\n",
      "Dropping pop12\n",
      "Dropping nhwht12\n",
      "Dropping nhblk12\n",
      "Dropping ntv12\n",
      "Dropping hisp12\n",
      "Dropping asian12\n",
      "Dropping haw12\n",
      "Dropping china12\n",
      "Dropping a15wht12\n",
      "Dropping a15blk12\n",
      "Dropping a15hsp12\n",
      "Dropping a15ntv12\n",
      "Dropping ageasn12\n",
      "Dropping a15asn12\n",
      "Dropping mex12\n",
      "Dropping pr12\n",
      "Dropping cuban12\n",
      "Dropping family12\n",
      "Dropping hu12\n",
      "Dropping vac12\n",
      "Dropping ohu12\n",
      "Dropping own12\n",
      "Dropping rent12\n",
      "Dropping a18und12\n",
      "Dropping a60up12\n",
      "Dropping a75up12\n",
      "Dropping fhh12\n"
     ]
    }
   ],
   "source": [
    "p = Path('../data/LTDB_2000.csv')\n",
    "if p.exists():\n",
    "    data2000 = pd.read_csv(p)\n",
    "else:\n",
    "    data2000f = pd.read_excel('../data/LTDB_Full_2000.xlsx')\n",
    "    data2000f = data2000f[data2000f.state == 'NY'][data2000f.county.isin(NYC_COUNTIES)]\n",
    "    data2000s = pd.read_excel('../data/LTDB_Sample_2000.xlsx')\n",
    "    data2000s = data2000s[data2000s.state == 'NY'][data2000s.county.isin(NYC_COUNTIES)]\n",
    "\n",
    "    data2000 = data2000f.merge(data2000s, how='inner')\n",
    "    del data2000f, data2000s\n",
    "    data2000.to_csv(p)\n",
    "    \n",
    "p = Path('../data/LTDB_2010.csv')\n",
    "if p.exists():\n",
    "    data2010 = pd.read_csv(p)\n",
    "else:\n",
    "    data2010f = pd.read_excel('../data/LTDB_Full_2010.xlsx')\n",
    "    data2010f = data2010f[data2010f.state == 'NY'][data2010f.county.isin(NYC_COUNTIES)]\n",
    "\n",
    "    data2010s = pd.read_excel('../data/LTDB_Sample_2010.xlsx')\n",
    "    data2010s = data2010s[data2010s.tractid.isin(data2010f.tractid.values)]\n",
    "\n",
    "    data2010 = data2010f.merge(data2010s, how='inner')\n",
    "    del data2010f, data2010s\n",
    "    data2010.to_csv(p)\n",
    "for column in data2010.columns:\n",
    "    if isinstance(column,str):\n",
    "        if '12' in column and (column.replace('12','10') in data2010.columns or column.replace('12','08') in data2010.columns):\n",
    "            print(f'Dropping {column}')\n",
    "            data2010 = data2010.drop(column,axis=1)\n",
    "columns2000 = list(data2000.columns)\n",
    "columns2010 = list(data2010.columns)\n",
    "replace = lambda x: x.replace('90','').replace('00','').replace('10','').replace('12','').lower()\n",
    "columns2000 = {c:replace(c) for c in columns2000 if isinstance(c,str)}\n",
    "columns2010 = {c:replace(c) for c in columns2010 if isinstance(c,str)}\n",
    "columns2010['tractid'] = 'trtid'\n",
    "data2000 = data2000.rename(columns=columns2000)\n",
    "data2010 = data2010.rename(columns=columns2010)\n",
    "assert(len(set(data2010.columns)) == len(list(data2010.columns)))\n",
    "columns = set(data2000.columns) & set(data2010.columns)\n",
    "data2000 = data2000[columns]\n",
    "data2010 = data2010[columns]\n"
   ]
  },
  {
   "cell_type": "code",
   "execution_count": 3,
   "metadata": {},
   "outputs": [],
   "source": [
    "data2000 = data2000[keep]\n",
    "data2010 = data2010[keep]"
   ]
  },
  {
   "cell_type": "code",
   "execution_count": 4,
   "metadata": {},
   "outputs": [],
   "source": [
    "original = pd.read_csv('../data/NY_2000.csv')"
   ]
  },
  {
   "cell_type": "code",
   "execution_count": 5,
   "metadata": {},
   "outputs": [
    {
     "name": "stdout",
     "output_type": "stream",
     "text": [
      "287\n",
      "288\n"
     ]
    }
   ],
   "source": [
    "print(len(data2000))\n",
    "print(len(data2010))"
   ]
  },
  {
   "cell_type": "code",
   "execution_count": 6,
   "metadata": {},
   "outputs": [
    {
     "name": "stdout",
     "output_type": "stream",
     "text": [
      "In 00 but not 10: set()\n",
      "In 10 but not 00: {36061000100}\n"
     ]
    },
    {
     "data": {
      "text/html": [
       "<div>\n",
       "<style scoped>\n",
       "    .dataframe tbody tr th:only-of-type {\n",
       "        vertical-align: middle;\n",
       "    }\n",
       "\n",
       "    .dataframe tbody tr th {\n",
       "        vertical-align: top;\n",
       "    }\n",
       "\n",
       "    .dataframe thead th {\n",
       "        text-align: right;\n",
       "    }\n",
       "</style>\n",
       "<table border=\"1\" class=\"dataframe\">\n",
       "  <thead>\n",
       "    <tr style=\"text-align: right;\">\n",
       "      <th></th>\n",
       "      <th>trtid</th>\n",
       "      <th>pop</th>\n",
       "      <th>nhwht</th>\n",
       "      <th>nhblk</th>\n",
       "      <th>hisp</th>\n",
       "      <th>asian</th>\n",
       "      <th>fb</th>\n",
       "      <th>nimm</th>\n",
       "      <th>nat</th>\n",
       "      <th>olang</th>\n",
       "      <th>lep</th>\n",
       "      <th>hs</th>\n",
       "      <th>col</th>\n",
       "      <th>unemp</th>\n",
       "      <th>flabf</th>\n",
       "      <th>prof</th>\n",
       "      <th>manuf</th>\n",
       "      <th>semp</th>\n",
       "      <th>vet</th>\n",
       "      <th>npov</th>\n",
       "      <th>n65pov</th>\n",
       "      <th>nfmpov</th>\n",
       "      <th>vac</th>\n",
       "      <th>own</th>\n",
       "      <th>multi</th>\n",
       "      <th>h30old</th>\n",
       "      <th>a18und</th>\n",
       "      <th>a60up</th>\n",
       "      <th>a75up</th>\n",
       "      <th>wds</th>\n",
       "      <th>fhh</th>\n",
       "      <th>incpc</th>\n",
       "    </tr>\n",
       "  </thead>\n",
       "  <tbody>\n",
       "    <tr>\n",
       "      <th>0</th>\n",
       "      <td>36061000100</td>\n",
       "      <td>2</td>\n",
       "      <td>0</td>\n",
       "      <td>0</td>\n",
       "      <td>0</td>\n",
       "      <td>2</td>\n",
       "      <td>0</td>\n",
       "      <td>0</td>\n",
       "      <td>0</td>\n",
       "      <td>0</td>\n",
       "      <td>0</td>\n",
       "      <td>0</td>\n",
       "      <td>0</td>\n",
       "      <td>0</td>\n",
       "      <td>0</td>\n",
       "      <td>0</td>\n",
       "      <td>0</td>\n",
       "      <td>0</td>\n",
       "      <td>0</td>\n",
       "      <td>0</td>\n",
       "      <td>0</td>\n",
       "      <td>0</td>\n",
       "      <td>0</td>\n",
       "      <td>0</td>\n",
       "      <td>0</td>\n",
       "      <td>0</td>\n",
       "      <td>0</td>\n",
       "      <td>1</td>\n",
       "      <td>0</td>\n",
       "      <td>0</td>\n",
       "      <td>0</td>\n",
       "      <td>-999</td>\n",
       "    </tr>\n",
       "  </tbody>\n",
       "</table>\n",
       "</div>"
      ],
      "text/plain": [
       "         trtid  pop  nhwht  nhblk  hisp  asian  fb  nimm  nat  olang  lep  hs  \\\n",
       "0  36061000100    2      0      0     0      2   0     0    0      0    0   0   \n",
       "\n",
       "   col  unemp  flabf  prof  manuf  semp  vet  npov  n65pov  nfmpov  vac  own  \\\n",
       "0    0      0      0     0      0     0    0     0       0       0    0    0   \n",
       "\n",
       "   multi  h30old  a18und  a60up  a75up  wds  fhh  incpc  \n",
       "0      0       0       0      1      0    0    0   -999  "
      ]
     },
     "metadata": {},
     "output_type": "display_data"
    }
   ],
   "source": [
    "trt00 = set(data2000.trtid.values)\n",
    "trt10 = set(data2010.trtid.values)\n",
    "print(f'In 00 but not 10: {trt00 - trt10}')\n",
    "print(f'In 10 but not 00: {trt10 - trt00}')\n",
    "display(data2010[data2010.trtid.isin(trt10 - trt00)])\n",
    "\n",
    "data2010 = data2010[data2010.trtid.isin(trt00)]\n",
    "data2000 = data2000[data2000.trtid.isin(trt10)]"
   ]
  },
  {
   "cell_type": "code",
   "execution_count": 7,
   "metadata": {},
   "outputs": [
    {
     "name": "stdout",
     "output_type": "stream",
     "text": [
      "287\n",
      "287\n"
     ]
    }
   ],
   "source": [
    "print(len(data2000))\n",
    "print(len(data2010))"
   ]
  },
  {
   "cell_type": "code",
   "execution_count": 8,
   "metadata": {},
   "outputs": [],
   "source": [
    "data2000.to_csv(Path.joinpath(DATA_DIR,'data2000.csv'))\n",
    "data2010.to_csv(Path.joinpath(DATA_DIR,'data2010.csv'))"
   ]
  },
  {
   "cell_type": "code",
   "execution_count": 9,
   "metadata": {},
   "outputs": [],
   "source": [
    "assert(np.all(data2000.columns == data2010.columns))"
   ]
  },
  {
   "cell_type": "code",
   "execution_count": 10,
   "metadata": {},
   "outputs": [],
   "source": [
    "data2010 = data2010.set_index('trtid')\n",
    "data2000 = data2000.set_index('trtid')"
   ]
  },
  {
   "cell_type": "code",
   "execution_count": 11,
   "metadata": {},
   "outputs": [
    {
     "name": "stdout",
     "output_type": "stream",
     "text": [
      "incpc 7\n",
      "7\n"
     ]
    }
   ],
   "source": [
    "total = 0\n",
    "for k,v in np.sum(data2010 == -999).iteritems():\n",
    "    if v > 0:\n",
    "        print(k,v)\n",
    "        total += v\n",
    "print(total)"
   ]
  },
  {
   "cell_type": "code",
   "execution_count": 12,
   "metadata": {},
   "outputs": [],
   "source": [
    "remove = data2010[(data2010 == -999).any(axis=1)].index.values"
   ]
  },
  {
   "cell_type": "code",
   "execution_count": 13,
   "metadata": {},
   "outputs": [],
   "source": [
    "data2000 = data2000[~data2000.index.isin(remove)]\n",
    "data2010 = data2010[~data2010.index.isin(remove)]"
   ]
  },
  {
   "cell_type": "code",
   "execution_count": 28,
   "metadata": {},
   "outputs": [],
   "source": [
    "data = data2010/data2000"
   ]
  },
  {
   "cell_type": "code",
   "execution_count": 29,
   "metadata": {},
   "outputs": [],
   "source": [
    "data = data.replace([np.inf, -np.inf], np.nan)"
   ]
  },
  {
   "cell_type": "code",
   "execution_count": 30,
   "metadata": {},
   "outputs": [
    {
     "name": "stdout",
     "output_type": "stream",
     "text": [
      "nfmpov 40\n"
     ]
    }
   ],
   "source": [
    "total = 0\n",
    "for k,v in np.sum(data.isna()).iteritems():\n",
    "    if v>len(data)//10:\n",
    "        print(k,v)\n",
    "        total += v\n",
    "        data = data.drop(k,axis=1)"
   ]
  },
  {
   "cell_type": "code",
   "execution_count": 31,
   "metadata": {},
   "outputs": [],
   "source": [
    "data = data[~data.isna().any(axis=1)]"
   ]
  },
  {
   "cell_type": "code",
   "execution_count": 32,
   "metadata": {},
   "outputs": [
    {
     "data": {
      "text/plain": [
       "253"
      ]
     },
     "execution_count": 32,
     "metadata": {},
     "output_type": "execute_result"
    }
   ],
   "source": [
    "len(data)"
   ]
  },
  {
   "cell_type": "code",
   "execution_count": 33,
   "metadata": {},
   "outputs": [
    {
     "name": "stderr",
     "output_type": "stream",
     "text": [
      "/home/alex/anaconda3/envs/isabelle/lib/python3.6/site-packages/ipykernel_launcher.py:1: RuntimeWarning: divide by zero encountered in log\n",
      "  \"\"\"Entry point for launching an IPython kernel.\n"
     ]
    }
   ],
   "source": [
    "data = np.log(data)"
   ]
  },
  {
   "cell_type": "code",
   "execution_count": 34,
   "metadata": {},
   "outputs": [],
   "source": [
    "data = data.replace([np.inf, -np.inf], np.nan)"
   ]
  },
  {
   "cell_type": "code",
   "execution_count": 35,
   "metadata": {},
   "outputs": [],
   "source": [
    "total = 0\n",
    "for k,v in np.sum(data.isna()).iteritems():\n",
    "    if v>len(data)//10:\n",
    "        print(k,v)\n",
    "        total += v\n",
    "        data = data.drop(k,axis=1)"
   ]
  },
  {
   "cell_type": "code",
   "execution_count": 36,
   "metadata": {},
   "outputs": [],
   "source": [
    "data = data.dropna()"
   ]
  },
  {
   "cell_type": "code",
   "execution_count": 37,
   "metadata": {},
   "outputs": [
    {
     "data": {
      "text/plain": [
       "236"
      ]
     },
     "execution_count": 37,
     "metadata": {},
     "output_type": "execute_result"
    }
   ],
   "source": [
    "len(data)"
   ]
  },
  {
   "cell_type": "code",
   "execution_count": 38,
   "metadata": {},
   "outputs": [],
   "source": [
    "mus = data.mean()\n",
    "sis = data.std()\n",
    "\n",
    "data = (data - mus) / sis"
   ]
  },
  {
   "cell_type": "code",
   "execution_count": null,
   "metadata": {},
   "outputs": [],
   "source": []
  },
  {
   "cell_type": "code",
   "execution_count": 39,
   "metadata": {},
   "outputs": [
    {
     "data": {
      "text/plain": [
       "236"
      ]
     },
     "execution_count": 39,
     "metadata": {},
     "output_type": "execute_result"
    }
   ],
   "source": [
    "len(data)"
   ]
  },
  {
   "cell_type": "code",
   "execution_count": 40,
   "metadata": {},
   "outputs": [
    {
     "data": {
      "text/plain": [
       "30"
      ]
     },
     "execution_count": 40,
     "metadata": {},
     "output_type": "execute_result"
    }
   ],
   "source": [
    "len(data.columns)"
   ]
  },
  {
   "cell_type": "code",
   "execution_count": 41,
   "metadata": {},
   "outputs": [],
   "source": [
    "data.to_csv(Path.joinpath(DATA_DIR,'NY_2000_NEW.csv'))"
   ]
  },
  {
   "cell_type": "code",
   "execution_count": null,
   "metadata": {},
   "outputs": [],
   "source": []
  }
 ],
 "metadata": {
  "kernelspec": {
   "display_name": "Python 3",
   "language": "python",
   "name": "python3"
  },
  "language_info": {
   "codemirror_mode": {
    "name": "ipython",
    "version": 3
   },
   "file_extension": ".py",
   "mimetype": "text/x-python",
   "name": "python",
   "nbconvert_exporter": "python",
   "pygments_lexer": "ipython3",
   "version": "3.6.8"
  }
 },
 "nbformat": 4,
 "nbformat_minor": 2
}
